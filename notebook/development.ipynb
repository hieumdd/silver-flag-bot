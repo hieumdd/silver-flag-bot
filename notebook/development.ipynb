{
 "cells": [
  {
   "cell_type": "code",
   "execution_count": 28,
   "metadata": {},
   "outputs": [],
   "source": [
    "import pandas as pd\n",
    "import numpy as np\n",
    "import pandas_ta as ta"
   ]
  },
  {
   "cell_type": "code",
   "execution_count": 2,
   "metadata": {},
   "outputs": [],
   "source": [
    "from trading.strategy_model import MultiMA\n",
    "from trading.trading_service import get_data, populate_indicators\n"
   ]
  },
  {
   "cell_type": "code",
   "execution_count": 3,
   "metadata": {},
   "outputs": [],
   "source": [
    "strategy = MultiMA()\n",
    "df = get_data(strategy)\n",
    "df_with_indicators = strategy()"
   ]
  },
  {
   "cell_type": "code",
   "execution_count": 43,
   "metadata": {},
   "outputs": [
    {
     "data": {
      "text/plain": [
       "2024-01-18 09:00:54     True\n",
       "2024-01-18 09:01:58     True\n",
       "2024-01-18 09:02:58     True\n",
       "2024-01-18 09:03:58     True\n",
       "2024-01-18 09:04:58    False\n",
       "                       ...  \n",
       "2024-01-26 14:27:57    False\n",
       "2024-01-26 14:28:59     True\n",
       "2024-01-26 14:29:59     True\n",
       "2024-01-26 14:30:02     True\n",
       "2024-01-26 14:45:10    False\n",
       "Length: 1700, dtype: bool"
      ]
     },
     "execution_count": 43,
     "metadata": {},
     "output_type": "execute_result"
    }
   ],
   "source": [
    "df2 = df.copy()\n",
    "for length in range(5, 150, 5):\n",
    "    df2[f\"EMA_{length}\"] = ta.ema(df2['close'], length=length)\n",
    "    df2[f\"EMA_{length}_FLAG\"] = np.where(df2['close'] > df2[f\"EMA_{length}\"], 1, -1)\n",
    "df2[[f\"EMA_{length}_FLAG\" for length in range(5, 150, 5)]].nunique(axis=\"columns\").eq(1)"
   ]
  },
  {
   "cell_type": "code",
   "execution_count": null,
   "metadata": {},
   "outputs": [],
   "source": []
  }
 ],
 "metadata": {
  "kernelspec": {
   "display_name": ".venv",
   "language": "python",
   "name": "python3"
  },
  "language_info": {
   "codemirror_mode": {
    "name": "ipython",
    "version": 3
   },
   "file_extension": ".py",
   "mimetype": "text/x-python",
   "name": "python",
   "nbconvert_exporter": "python",
   "pygments_lexer": "ipython3",
   "version": "3.11.6"
  }
 },
 "nbformat": 4,
 "nbformat_minor": 2
}
